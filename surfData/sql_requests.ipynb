{
 "cells": [
  {
   "cell_type": "code",
   "execution_count": 8,
   "metadata": {},
   "outputs": [],
   "source": [
    "import sqlite3\n",
    "import traceback\n",
    "\n",
    "\n",
    "def getTimestamps(conn):\n",
    "    cur = conn.cursor()\n",
    "    try:\n",
    "        cur.execute(\"SELECT timestamp FROM General\")\n",
    "        rows = cur.fetchall()\n",
    "        # return rows\n",
    "        return [row[0].replace(\"(\\'\", \"\").replace(\"\\',)\",\"\") for row in rows]\n",
    "        \n",
    "    except:\n",
    "        print(\"Error leyendo de la base de datos: \")\n",
    "        traceback.print_exc()\n",
    "        \n",
    "\n",
    "def getData(conn):\n",
    "    cur = conn.cursor()  \n",
    "    try:\n",
    "        cur.execute(\"\"\" SELECT General.timestamp, Marea.nivel, Temperatura.temp_agua, Temperatura.temp_aire, Oleaje.altura, Oleaje.direccion_procedencia, Oleaje.periodo_medio, Viento.direccion_procedencia, Viento.velocidad_media\n",
    "                        FROM General\n",
    "                        INNER JOIN Marea ON General.id_marea=Marea.id\n",
    "                        INNER JOIN Temperatura ON General.id_temperatura=Temperatura.id\n",
    "                        INNER JOIN Oleaje ON General.id_oleaje=Oleaje.id\n",
    "                        INNER JOIN Viento ON General.id_viento=Viento.id\"\"\")\n",
    "        rows = cur.fetchall()\n",
    "        return rows\n",
    "        \n",
    "    except:\n",
    "        print(\"Error leyendo de la base de datos: \")\n",
    "        traceback.print_exc()\n",
    "        \n",
    "def getDataByTimestamp(conn, timestamp):\n",
    "    cur = conn.cursor()  \n",
    "    try:\n",
    "        cur.execute(\"\"\" SELECT General.timestamp, Marea.nivel, Temperatura.temp_agua, Temperatura.temp_aire, Oleaje.altura, Oleaje.direccion_procedencia, Oleaje.periodo_medio, Viento.direccion_procedencia, Viento.velocidad_media FROM General\n",
    "                        INNER JOIN Marea ON General.id_marea=Marea.id\n",
    "                        INNER JOIN Temperatura ON General.id_temperatura=Temperatura.id\n",
    "                        INNER JOIN Oleaje ON General.id_oleaje=Oleaje.id\n",
    "                        INNER JOIN Viento ON General.id_viento=Viento.id\n",
    "                        WHERE General.timestamp=? \"\"\", [timestamp])\n",
    "        rows = cur.fetchall()\n",
    "        return rows\n",
    "        \n",
    "    except:\n",
    "        print(\"Error leyendo de la base de datos: \")\n",
    "        traceback.print_exc()\n",
    "        \n",
    "def getImagesByTimestamp(conn, timestamp):\n",
    "    cur = conn.cursor()  \n",
    "    try:\n",
    "        cur.execute(\"\"\" SELECT General.foto1, General.foto2, General.foto3 FROM General\n",
    "                        WHERE General.timestamp=? \"\"\", [timestamp])\n",
    "        record = cur.fetchall()\n",
    "        \n",
    "        # return record\n",
    "        \n",
    "        imgs = []\n",
    "        \n",
    "        for i in range(3):\n",
    "            nparr = np.fromstring(record[0][i], np.uint8)\n",
    "            imgs.append(cv2.imdecode(nparr,cv2.IMREAD_COLOR))\n",
    "            \n",
    "        return imgs\n",
    "\n",
    "        \n",
    "    except:\n",
    "        print(\"Error leyendo de la base de datos: \")\n",
    "        traceback.print_exc()\n",
    "    \n",
    "        \n"
   ]
  },
  {
   "cell_type": "code",
   "execution_count": 9,
   "metadata": {},
   "outputs": [
    {
     "name": "stdout",
     "output_type": "stream",
     "text": [
      "['2022-05-03 19:00:00.000000', '2022-05-03 20:00:00.000000', '2022-05-03 21:00:00.000000', '2022-05-03 22:00:00.000000', '2022-05-03 23:00:00.000000', '2022-05-04 00:00:00.000000', '2022-05-04 01:00:00.000000', '2022-05-04 02:00:00.000000', '2022-05-04 03:00:00.000000', '2022-05-04 04:00:00.000000', '2022-05-04 05:00:00.000000', '2022-05-04 06:00:00.000000', '2022-05-04 07:00:00.000000', '2022-05-04 08:00:00.000000', '2022-05-04 09:00:00.000000', '2022-05-04 10:00:00.000000', '2022-05-04 11:00:00.000000', '2022-05-04 12:00:00.000000', '2022-05-04 13:00:00.000000', '2022-05-04 14:00:00.000000', '2022-05-04 15:00:00.000000', '2022-05-04 16:00:00.000000', '2022-05-04 17:00:00.000000', '2022-05-04 18:00:00.000000', '2022-05-04 19:00:00.000000']\n"
     ]
    }
   ],
   "source": [
    "import numpy as np\n",
    "import cv2\n",
    "import matplotlib.pyplot as plt\n",
    "\n",
    "\n",
    "conn = sqlite3.connect('data/historicData.db')\n",
    "\n",
    "rows =getTimestamps(conn)\n",
    "print(rows)\n",
    "\n",
    "\n",
    "\n",
    "conn.close()\n",
    "\n"
   ]
  },
  {
   "cell_type": "code",
   "execution_count": null,
   "metadata": {},
   "outputs": [],
   "source": []
  }
 ],
 "metadata": {
  "interpreter": {
   "hash": "f7a9bf85201c4b4624d52de462158775ffcfcddd315dc4ebe6e7f1d24cc828f3"
  },
  "kernelspec": {
   "display_name": "Python 3.9.1 ('base')",
   "language": "python",
   "name": "python3"
  },
  "language_info": {
   "codemirror_mode": {
    "name": "ipython",
    "version": 3
   },
   "file_extension": ".py",
   "mimetype": "text/x-python",
   "name": "python",
   "nbconvert_exporter": "python",
   "pygments_lexer": "ipython3",
   "version": "3.8.3"
  },
  "orig_nbformat": 4
 },
 "nbformat": 4,
 "nbformat_minor": 2
}
